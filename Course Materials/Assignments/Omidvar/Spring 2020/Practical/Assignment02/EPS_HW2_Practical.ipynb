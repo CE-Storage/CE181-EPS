{
 "cells": [
  {
   "cell_type": "markdown",
   "metadata": {},
   "source": [
    "<div style=\"direction:rtl;line-height:300%;\">\n",
    "\t<font face=\"XB Zar\" size=5>\n",
    "\t\t<div align=center>\n",
    "\t\t\t<font face=\"IranNastaliq\" size=30>\n",
    "\t\t\t\t<p></p>\n",
    "\t\t\t\t<p></p>\n",
    "به نام خدا\n",
    "\t\t\t\t<p></p>\n",
    "\t\t\t</font>\n",
    "\t\t\t<font color=#FF7500>\n",
    "دانشگاه صنعتی شریف - دانشکده مهندسی کامپیوتر\n",
    "            </font>\n",
    "\t\t\t<p></p>\n",
    "\t\t\t<font color=blue>\n",
    "آمار و احتمال مهندسی\n",
    "            </font>\n",
    "\t\t\t<br />\n",
    "\t\t\t<br />\n",
    "بهار ۱۳۹۸\n",
    "\t\t</div>\n",
    "\t\t<hr/>\n",
    "\t\t<div align=center>\n",
    "\t\t    <font color=red size=6>\n",
    "\t\t\t    <br />\n",
    "تمرین عملی دوم\n",
    "            \t<br/>\n",
    "\t\t\t</font>\n",
    "طراحان: حسین آقامحمدی - سید پارسا میرطاهری \n",
    "\t\t\t<br/>\n",
    "                <br/><br/>\n",
    "                <font color=red>\n",
    "                لطفا در فایل ارسالی تمام بلوک‌های کد اجرا شده و شامل خروجی‌های لازم باشند.\n",
    "     </font>\n",
    "                <br/>\n",
    "        </style>\n",
    "\t</font>\n",
    "</div>"
   ]
  },
  {
   "cell_type": "raw",
   "metadata": {},
   "source": [
    "نام و نام خانوادگی"
   ]
  },
  {
   "cell_type": "raw",
   "metadata": {},
   "source": [
    "شماره دانشجویی"
   ]
  },
  {
   "cell_type": "markdown",
   "metadata": {},
   "source": [
    "<div dir = \"rtl\" style=\"direction:rtl;line-height:300%;\">\n",
    "\t<font face=\"XB Zar\" size=5>\n",
    "     در این سوال می‌خواهیم میزان دقت تقریب متغیر تصادفی دوجمله‌ای توسط متغیر تصادفی پوآسون در حالتی که \n",
    "      $n$\n",
    "      بزرگ و \n",
    "      $p$\n",
    "      کوچک به طوری که\n",
    "      $\\lambda=np$\n",
    "      متعادل باشد را بررسی کنیم.\n",
    "      برای این منظور به ازای اعداد $20, 30, 40, ..., 100$ برای \n",
    "      $n$\n",
    "      و مقدار ثابت \n",
    "      $15$ \n",
    "      برای $np$\n",
    "       نمودار توزیع جرم احتمال را برای توزیع دو جمله‌ای و توزیع تقریب پوآسن رسم کنید و هم‌چنین به ازای هر حالت مجموع خطای تقریب به ازای مقادیر مختلف را گزارش کنید. در انتها نیز نمودار مجموع خطای تقریب به ازای مقادیر مختلف $n$ را رسم کنید.\n",
    "   <br>\n",
    "   </font>\n",
    "</div>"
   ]
  },
  {
   "cell_type": "markdown",
   "metadata": {},
   "source": [
    "<div dir = \"rtl\" style=\"direction:rtl;line-height:300%;\">\n",
    "\t<font face=\"XB Zar\" size=5>\n",
    "\t\t<font color=#FF7500 size=6>\n",
    "        </font>\n",
    "        پاسخ:\n",
    "\t</font>\n",
    "</div>"
   ]
  },
  {
   "cell_type": "code",
   "execution_count": null,
   "metadata": {},
   "outputs": [],
   "source": []
  }
 ],
 "metadata": {
  "kernelspec": {
   "display_name": "R",
   "language": "R",
   "name": "ir"
  },
  "language_info": {
   "codemirror_mode": "r",
   "file_extension": ".r",
   "mimetype": "text/x-r-source",
   "name": "R",
   "pygments_lexer": "r",
   "version": "3.6.1"
  }
 },
 "nbformat": 4,
 "nbformat_minor": 2
}
