{
 "cells": [
  {
   "cell_type": "markdown",
   "metadata": {
    "collapsed": true
   },
   "source": [
    "<div style=\"direction:rtl;line-height:300%;\">\n",
    "\t<font face=\"XB Zar\" size=5>\n",
    "\t\t<div align=center>\n",
    "\t\t\t<font face=\"IranNastaliq\" size=30>\n",
    "\t\t\t\t<p></p>\n",
    "\t\t\t\t<p></p>\n",
    "به نام خدا\n",
    "\t\t\t\t<p></p>\n",
    "\t\t\t</font>\n",
    "\t\t\t<font color=#FF7500>\n",
    "دانشگاه صنعتی شریف - دانشکده مهندسی کامپیوتر\n",
    "            </font>\n",
    "\t\t\t<p></p>\n",
    "\t\t\t<font color=blue>\n",
    "آمار و احتمال مهندسی\n",
    "            </font>\n",
    "\t\t\t<br />\n",
    "\t\t\t<br />\n",
    "بهار ۱۳۹۹\n",
    "\t\t</div>\n",
    "\t\t<hr/>\n",
    "\t\t<div align=center>\n",
    "\t\t    <font color=red size=6>\n",
    "\t\t\t    <br />\n",
    "قسمت عملی تمرین ششم\n",
    "            \t<br/>\n",
    "\t\t\t</font>\n",
    "طراحان: امیرپویا معینی - امیرمهدی نامجو \n",
    "\t\t\t<br/>\n",
    "                <br/><br/>\n",
    "                <font color=red>\n",
    "                لطفا در فایل ارسالی تمام بلوک‌های کد اجرا شده و شامل خروجی‌های لازم باشند.\n",
    "     </font>\n",
    "                <br/>\n",
    "        </style>\n",
    "\t</font>\n",
    "</div>"
   ]
  },
  {
   "cell_type": "markdown",
   "metadata": {},
   "source": [
    "نام و نام خانوادگی :"
   ]
  },
  {
   "cell_type": "markdown",
   "metadata": {},
   "source": [
    "شماره دانشجویی :"
   ]
  },
  {
   "cell_type": "markdown",
   "metadata": {},
   "source": [
    "<div dir = \"rtl\" style=\"direction:rtl;line-height:300%;\">\n",
    "\t<font face=\"XB Zar\" size=5>\n",
    "\t\t<font color=#FF7500 size=6>\n",
    "            سوال اول\n",
    "        </font>\n",
    "        <hr/>\n",
    "        <br>\n",
    "        دایره‌ای را به مرکز مبدا مختصات و شعاع ۱ درنظر بگیرید. میخواهیم یک توزیع مناسب پیدا کنیم تا بتوانیم نقطه ای را در این سطح این دایره با احتمال یکسان انتخاب کنیم. پیش از آنکه راه خودتان را بیان کنید از شما میخواهیم هم به وسیله کد در زبان   Python یا R و هم به وسیله دانش آماری خود دو راهی که در ادامه بیان می‎کنیم را رد یا اثبات کنید و اگر هر دو مورد الف و ب را رد کردید  راه درست خودتان را بیان کنید \n",
    "        (دقت داشته باشید که خروجی هر قسمت از این سوال شامل  توضیح و کد است که خروجی هر کد باید شامل یک تصویر یا نمودار باشد به گونه ای که توجیه کند که انتخاب متغیرهای تصادفی به روش استفاده شده کارآمد هست یا خیر).\n",
    "دقت کنید در صورت اثبات درستی حداقل یکی از موارد الف یا ب نیازی به ارائه روش خودتان نیست.\n",
    "        </br>\n",
    "    <br>\n",
    "        الف) $x$ و $y$ هر دو به صورت یکنواخت در بازه های \n",
    "        $x \\in [-1, 1] , y \\in [-\\sqrt{1 - x^2}, \\sqrt{1 - x^2}]$\n",
    "        </br>\n",
    "        <br>\n",
    "        ب ) $r$ و $\\theta$ هر دو به صورت یکنواخت در بازه های\n",
    "        $ r \\in [0, 1] , \\theta \\in [-\\pi, \\pi] $\n",
    "        </br>\n",
    "        <br>\n",
    "        ج) راه درست خودتان \n",
    "        </br>\n",
    "           </font>\n",
    "</div>\n",
    "        "
   ]
  },
  {
   "cell_type": "markdown",
   "metadata": {},
   "source": [
    "<div dir = \"rtl\" style=\"direction:rtl;line-height:300%;\">\n",
    "\t<font face=\"XB Zar\" size=5>\n",
    "\t\t<font color=#FF7500 size=6>\n",
    "            سوال دوم\n",
    "        </font>\n",
    "        <hr/>\n",
    "        <br>\n",
    "        الف) فرض کنید متغیر تصادفی $X$ از توزیع نرمال با میانگین ۱ و انحراف معیار ۳ پیروی می‌کند و متغیر تصادفی $Y$ نیز از توزیع نرمال با میانگین‌ ۳ و انحراف معیار ۲ پیروی می‌کند. به تعداد $ n =10^5 $ از این دو متغیر تصادفی نمونه بگیرید و سپس نمودار چگالی احتمال این دو متغیر تصادفی را نیز رسم کنید. \n",
    "      \n",
    "</div>\n",
    "        "
   ]
  },
  {
   "cell_type": "markdown",
   "metadata": {},
   "source": [
    "<div dir = \"rtl\" style=\"direction:rtl;line-height:300%;\">\n",
    "\t<font face=\"XB Zar\" size=5>\n",
    "        <br>\n",
    "     ب) سپس یک ماتریس بسازید به‌گونه‌ای که ستون اول نمونه‌های متغیر تصادفی $X$ و ستون دوم آن نمونه‌های متغیر تصادفی $Y$ باشد. همچنین ماتریس Covariance این دو متغیر تصادفی را نیز بسازید. درایه‌ی i,j این ماتریس نشان‌دهنده‌ی کوواریانس دو متغیر تصادفی $a_i$ و $a_j$ است.\n",
    "    </font>\n",
    "</div>\n",
    "        "
   ]
  },
  {
   "cell_type": "markdown",
   "metadata": {},
   "source": [
    "<div dir = \"rtl\" style=\"direction:rtl;line-height:300%;\">\n",
    "\t<font face=\"XB Zar\" size=5>\n",
    "        <br>\n",
    "        پ) حال با استفاده از تابع dmvn بردار چگالی احتمال توزیع توام این دو متغیر تصادفی را به دست آورید. برای اطلاع از نحوه‌ی ورودی گرفتن این تابع این <a href='https://www.rdocumentation.org/packages/LaplacesDemon/versions/16.1.4/topics/dist.Multivariate.Normal'>لینک</a> را مطالعه کنید. ( این تابع درون پکیج LaplacesDemon قرار گرفته‌است که با اجرا کردن کد زیر آن‌را به این دفترچه اضافه کنید. )\n",
    "    </font>\n",
    "</div>\n",
    "        "
   ]
  },
  {
   "cell_type": "code",
   "execution_count": 22,
   "metadata": {},
   "outputs": [
    {
     "name": "stdout",
     "output_type": "stream",
     "text": [
      "\n",
      "  There is a binary version available but the source version is later:\n",
      "              binary source needs_compilation\n",
      "LaplacesDemon 16.1.0 16.1.4             FALSE\n",
      "\n"
     ]
    },
    {
     "name": "stderr",
     "output_type": "stream",
     "text": [
      "installing the source package ‘LaplacesDemon’\n",
      "\n",
      "\n"
     ]
    }
   ],
   "source": [
    "install.packages('LaplacesDemon')\n",
    "library(LaplacesDemon)"
   ]
  },
  {
   "cell_type": "markdown",
   "metadata": {},
   "source": [
    "<div dir = \"rtl\" style=\"direction:rtl;line-height:300%;\">\n",
    "\t<font face=\"XB Zar\" size=5>\n",
    "        <br>\n",
    "    ت ) سپس نمودار این چگالی احتمال توزیع توام را برحسب مقادیر نمونه‌های متغیر تصادفی $X$ و $Y$ رسم کنید. مشخص است که نمودار به‌صورت ۳ بعدی خواهد بود. پیشنهاد می‌شود که از پکیج plotly و از تابع plot_ly برای این کار استفاده کنید. با اجرا کردن قطعه کد زیر آن‌را به این دفترچه اضافه کنید.\n",
    "    </font>\n",
    "</div>\n",
    "        "
   ]
  },
  {
   "cell_type": "code",
   "execution_count": 27,
   "metadata": {},
   "outputs": [
    {
     "name": "stdout",
     "output_type": "stream",
     "text": [
      "\n",
      "  There is a binary version available but the source version is later:\n",
      "       binary  source needs_compilation\n",
      "plotly  4.7.1 4.9.2.1             FALSE\n",
      "\n"
     ]
    },
    {
     "name": "stderr",
     "output_type": "stream",
     "text": [
      "installing the source package ‘plotly’\n",
      "\n",
      "\n",
      "\n",
      "Attaching package: ‘plotly’\n",
      "\n",
      "\n",
      "The following object is masked from ‘package:ggplot2’:\n",
      "\n",
      "    last_plot\n",
      "\n",
      "\n",
      "The following object is masked from ‘package:stats’:\n",
      "\n",
      "    filter\n",
      "\n",
      "\n",
      "The following object is masked from ‘package:graphics’:\n",
      "\n",
      "    layout\n",
      "\n",
      "\n"
     ]
    }
   ],
   "source": [
    "install.packages('plotly')\n",
    "library(plotly)"
   ]
  },
  {
   "cell_type": "markdown",
   "metadata": {},
   "source": [
    "<div dir = \"rtl\" style=\"direction:rtl;line-height:300%;\">\n",
    "\t<font face=\"XB Zar\" size=5>\n",
    "        <br>\n",
    "       ث) نمودار قسمت قبل شما باید به فرم توزیع نرمال در آمده‌باشد. با استفاده از شکل بگویید این تابع چگالی احتمال به ازای چه مقادیری از $X$ و $Y$ مقدار بیشینه‌ی خود را اخذ می‌کند. سپس  مقادیر چگالی احتمال تو متغیر تصادفی $X$ و $Y$ را با استفاده از تابع dnorm محاسبه کرده و درون متغیر‌های $fX$ و $fY$ بریزید. درنهایت متغیر $fXY$ را تعریف کنید که برابر حاصلضرب مقادیر دو بردار $fX$ و $fY$ در یکدیگر باشد.\n",
    "    </font>\n",
    "</div>\n",
    "        "
   ]
  },
  {
   "cell_type": "markdown",
   "metadata": {},
   "source": [
    "<div dir = \"rtl\" style=\"direction:rtl;line-height:300%;\">\n",
    "\t<font face=\"XB Zar\" size=5>\n",
    "        <br>\n",
    "       ج) حال تابع سه‌بعدی $fXY$ را برحسب مقادیر $X$ و $Y$ رسم کنید و با مقایسه با قسمت قبل مستقل بودن تو متغیر تصادفی $X$ و $Y$ را نتیجه بگیرید.\n",
    "    </font>\n",
    "</div>\n",
    "        "
   ]
  }
 ],
 "metadata": {
  "kernelspec": {
   "display_name": "R",
   "language": "R",
   "name": "ir"
  },
  "language_info": {
   "codemirror_mode": "r",
   "file_extension": ".r",
   "mimetype": "text/x-r-source",
   "name": "R",
   "pygments_lexer": "r",
   "version": "3.3.3"
  }
 },
 "nbformat": 4,
 "nbformat_minor": 2
}
